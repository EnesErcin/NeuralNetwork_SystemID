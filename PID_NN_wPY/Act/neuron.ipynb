{
 "cells": [
  {
   "cell_type": "code",
   "execution_count": 1,
   "metadata": {},
   "outputs": [],
   "source": [
    "import numpy as np\n",
    "import random\n",
    "import matplotlib.pyplot as plt\n",
    "from func import neuron_layer,neuron_layers"
   ]
  },
  {
   "cell_type": "code",
   "execution_count": 2,
   "metadata": {},
   "outputs": [],
   "source": [
    "my_layers = neuron_layers([1,1,1,1],0.0000005)"
   ]
  },
  {
   "cell_type": "code",
   "execution_count": 3,
   "metadata": {},
   "outputs": [
    {
     "name": "stdout",
     "output_type": "stream",
     "text": [
      "\n",
      " \n",
      " |||| In neuron 0\n",
      "Forward Calculations || W.x + b || == a \n",
      "\n",
      "W -> [[1.]], x -> 2, b ->[[0.04427659]]\n",
      "a -> [[2.04427659]]\n",
      "Nonlinear ||σ(a) = y|| == a \n",
      "\n",
      "a -> [[2.04427659]] \n",
      "σ(a) -> [[0.88536802]]\n",
      "-------------------------\n",
      "\n",
      "\n",
      " \n",
      " |||| In neuron 1\n",
      "Forward Calculations || W.x + b || == a \n",
      "\n",
      "W -> [[1.]], x -> [[0.88536802]], b ->[[0.50230179]]\n",
      "a -> [[1.38766981]]\n",
      "Nonlinear ||σ(a) = y|| == a \n",
      "\n",
      "a -> [[1.38766981]] \n",
      "σ(a) -> [[0.80021998]]\n",
      "-------------------------\n",
      "\n",
      "Forward Calculations || W.x + b || == a \n",
      "\n",
      "W -> [[1.]], x -> [[0.80021998]], b ->[[0.79634704]]\n",
      "a -> [[1.59656702]]\n",
      "-------------------------\n",
      "\n",
      "\n",
      " \n",
      " |||| In neuron 2\n",
      "Forward Calculations || W.x + b || == a \n",
      "\n",
      "W -> [[1.]], x -> [[0.80021998]], b ->[[0.79634704]]\n",
      "a -> [[1.59656702]]\n"
     ]
    }
   ],
   "source": [
    "data = 2 \n",
    "expected = 2\n",
    "err , out = my_layers.calc_output(data,expected)"
   ]
  },
  {
   "cell_type": "code",
   "execution_count": 4,
   "metadata": {},
   "outputs": [
    {
     "name": "stdout",
     "output_type": "stream",
     "text": [
      "X values 2, W values [[1.]], Sig values[[0.88536802]]\n",
      "X values [[0.88536802]], W values [[1.]], Sig values[[0.80021998]]\n",
      "X values [[0.80021998]], W values [[1.]], Sig values[[0.]]\n",
      "Error\t [[0.16275817]]\n"
     ]
    }
   ],
   "source": [
    "for i in my_layers.layers:\n",
    "    print(\"X values {}, W values {}, Sig values{}\".format(i.x,i.w,i.sig))\n",
    "\n",
    "assert (out-expected)**2 == err ## Mean squarer error\n",
    "print(\"Error\\t {}\".format(my_layers.layers[-1].j))"
   ]
  },
  {
   "cell_type": "code",
   "execution_count": 5,
   "metadata": {},
   "outputs": [
    {
     "name": "stdout",
     "output_type": "stream",
     "text": [
      "[[-0.32551633]]\n",
      "dw_2 = \t2 d_a1 = \t[[0.88536802]] dJ_dc = \t[[-0.32551633]]\n",
      "\n",
      "|| 0 [[0.06607427]]\n",
      "dw_2 = \t[[0.88536802]] d_a1 = \t[[0.80021998]] dJ_dc = \t[[0.03303714]]\n",
      "\n",
      "|| 1 [[-0.00467614]]\n",
      "dw_2 = \t[[0.80021998]] d_a1 = \t[[0.]] dJ_dc = \t[[-0.00528158]]\n",
      "\n",
      "|| 2 [[0.]]\n"
     ]
    }
   ],
   "source": [
    "da_dw = -2*err\n",
    "print(da_dw)\n",
    "\n",
    "##### 1- w_1*x  + b_1 = a_0      || Layer 1\n",
    "##### 2- c_0 = σ(a_0)\n",
    "##### 3- w_2*c_0 + b_2 = a_1     || Layer 2\n",
    "##### 4- c_1 = σ(a_1) \n",
    "##### 5- w_3*c_1 + b_3 = a_2     || Layer 3 (Output Layer)\n",
    "\n",
    "##### First weigtth derivatives\n",
    "#####\n",
    "##### dJ/dw_2 = [ (dJ/dy)*(dy/da) ] * d_c1\n",
    "##### --> Send for other derivatives dJ/dc = [ (dJ/dy)*(dy/da) ]*w\n",
    "\n",
    "######## dC/dw_2 = (dC/dy)*(dy/da_2)*(da_2/d_c1)*(dc_1/d_a1)*(da_1/dw_2)\n",
    "##### (dJ/dy)   = -2J\n",
    "##### (dy/da_2) = 1\n",
    "##### (da_2/d_c1) = w_3\n",
    "##### (dc_1/d_a1) = -c_1(1-c_1)\n",
    "##### (da_1/dw_2) = c_0\n",
    "\n",
    "##### dw_2 @ layer[1]\n",
    "\n",
    "dJ_dc = -2*my_layers.layers[-1].j * my_layers.layers[-1].w\n",
    "a = (len(my_layers.layers) - 1 )\n",
    "for i in range(0,3):\n",
    "    a = a-1\n",
    "\n",
    "    dw_2 =  my_layers.layers[a].x\n",
    "\n",
    "    d_a1 = my_layers.layers[a].sig\n",
    "    d_a1 = -d_a1*(1-d_a1)\n",
    "\n",
    "    dJ_dw = dJ_dc*d_a1*dw_2\n",
    "\n",
    "    print(\"dw_2 = \\t{} d_a1 = \\t{} dJ_dc = \\t{}\".format(my_layers.layers[a].x,my_layers.layers[a].sig,dJ_dc))\n",
    "    print(\"\\n||\",a,dJ_dw)\n",
    "\n",
    "    dJ_dc = dJ_dc*d_a1\n",
    "\n",
    "\n",
    "\n",
    "\n"
   ]
  },
  {
   "cell_type": "code",
   "execution_count": 6,
   "metadata": {},
   "outputs": [
    {
     "name": "stdout",
     "output_type": "stream",
     "text": [
      "@ 2 da_dc [[-0.32551633]]\n",
      "dw_2 = \t[[0.88536802]] d_a1 = \t[[0.80021998]] dJ_dc = \t[[-0.32551633]]\n",
      "@ 1 da_dc [[0.04607423]]\n",
      "dw_2 = \t2 d_a1 = \t[[0.88536802]] dJ_dc = \t[[0.05203963]]\n",
      "@ 0 da_dc [[-0.01056316]]\n"
     ]
    }
   ],
   "source": [
    "my_layers.back_prop()"
   ]
  }
 ],
 "metadata": {
  "kernelspec": {
   "display_name": "Python 3",
   "language": "python",
   "name": "python3"
  },
  "language_info": {
   "codemirror_mode": {
    "name": "ipython",
    "version": 3
   },
   "file_extension": ".py",
   "mimetype": "text/x-python",
   "name": "python",
   "nbconvert_exporter": "python",
   "pygments_lexer": "ipython3",
   "version": "3.10.6"
  },
  "orig_nbformat": 4
 },
 "nbformat": 4,
 "nbformat_minor": 2
}
