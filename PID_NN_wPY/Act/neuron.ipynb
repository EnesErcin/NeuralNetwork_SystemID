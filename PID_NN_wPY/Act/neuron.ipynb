{
 "cells": [
  {
   "cell_type": "code",
   "execution_count": 1,
   "metadata": {},
   "outputs": [],
   "source": [
    "import numpy as np\n",
    "import random\n",
    "import matplotlib.pyplot as plt\n",
    "from func import neuron_layer,neuron_layers"
   ]
  },
  {
   "cell_type": "code",
   "execution_count": 2,
   "metadata": {},
   "outputs": [],
   "source": [
    "my_layers = neuron_layers([1,1,1],0.005)"
   ]
  },
  {
   "cell_type": "code",
   "execution_count": 14,
   "metadata": {},
   "outputs": [
    {
     "name": "stdout",
     "output_type": "stream",
     "text": [
      "\n",
      " \n",
      " |||| In neuron 0\n",
      "Forward Calculations || W.x + b || == a \n",
      "\n",
      "W -> [[1.]], x -> 2, b ->[[0.02918897]]\n",
      "a -> [[2.02918897]]\n",
      "Nonlinear ||σ(a) = y|| == a \n",
      "\n",
      "a -> [[2.02918897]] \n",
      "σ(a) -> [[0.88382783]]\n",
      "-------------------------\n",
      "\n",
      "Forward Calculations || W.x + b || == a \n",
      "\n",
      "W -> [[1.]], x -> [[0.88382783]], b ->[[0.50727531]]\n",
      "a -> [[1.39110314]]\n",
      "-------------------------\n",
      "\n",
      "\n",
      " \n",
      " |||| In neuron 1\n",
      "Forward Calculations || W.x + b || == a \n",
      "\n",
      "W -> [[1.]], x -> [[0.88382783]], b ->[[0.50727531]]\n",
      "a -> [[1.39110314]]\n"
     ]
    }
   ],
   "source": [
    "data = 2 \n",
    "expected = 2\n",
    "err , out = my_layers.calc_output(data,expected)"
   ]
  },
  {
   "cell_type": "code",
   "execution_count": 16,
   "metadata": {},
   "outputs": [
    {
     "name": "stdout",
     "output_type": "stream",
     "text": [
      "X values 2, W values [[1.]], Sig values[[0.88382783]]\n",
      "X values [[0.88382783]], W values [[1.]], Sig values[[0.]]\n",
      "Error\t [[0.37075538]]\n"
     ]
    }
   ],
   "source": [
    "for i in my_layers.layers:\n",
    "    print(\"X values {}, W values {}, Sig values{}\".format(i.x,i.w,i.sig))\n",
    "\n",
    "assert (out-expected)**2 == err ## Mean squarer error\n",
    "print(\"Error\\t {}\".format(my_layers.layers[-1].j))"
   ]
  },
  {
   "cell_type": "code",
   "execution_count": 17,
   "metadata": {},
   "outputs": [
    {
     "ename": "ValueError",
     "evalue": "matmul: Input operand 0 does not have enough dimensions (has 0, gufunc core with signature (n?,k),(k,m?)->(n?,m?) requires 1)",
     "output_type": "error",
     "traceback": [
      "\u001b[0;31m---------------------------------------------------------------------------\u001b[0m",
      "\u001b[0;31mValueError\u001b[0m                                Traceback (most recent call last)",
      "Cell \u001b[0;32mIn[17], line 1\u001b[0m\n\u001b[0;32m----> 1\u001b[0m my_layers\u001b[39m.\u001b[39;49mback_prop()\n",
      "File \u001b[0;32m~/Desktop/NeuralNetwork_SystemID/PID_NN_wPY/Act/func.py:56\u001b[0m, in \u001b[0;36mneuron_layers.back_prop\u001b[0;34m(self)\u001b[0m\n\u001b[1;32m     54\u001b[0m \u001b[39mfor\u001b[39;00m a \u001b[39min\u001b[39;00m \u001b[39mrange\u001b[39m (\u001b[39m0\u001b[39m,\u001b[39mself\u001b[39m\u001b[39m.\u001b[39mhidden_size):\n\u001b[1;32m     55\u001b[0m     cnt \u001b[39m=\u001b[39m \u001b[39mself\u001b[39m\u001b[39m.\u001b[39mhidden_size\u001b[39m-\u001b[39ma\u001b[39m-\u001b[39m\u001b[39m1\u001b[39m\n\u001b[0;32m---> 56\u001b[0m     da_dw \u001b[39m=\u001b[39m \u001b[39mself\u001b[39;49m\u001b[39m.\u001b[39;49mlayers[cnt]\u001b[39m.\u001b[39;49mbackprop(da_dw)\n\u001b[1;32m     57\u001b[0m \u001b[39mpass\u001b[39;00m\n",
      "File \u001b[0;32m~/Desktop/NeuralNetwork_SystemID/PID_NN_wPY/Act/func.py:115\u001b[0m, in \u001b[0;36mneuron_layer.backprop\u001b[0;34m(self, dj_da)\u001b[0m\n\u001b[1;32m    113\u001b[0m \u001b[39mdef\u001b[39;00m \u001b[39mbackprop\u001b[39m(\u001b[39mself\u001b[39m,dj_da):\n\u001b[1;32m    114\u001b[0m     da \u001b[39m=\u001b[39m \u001b[39m-\u001b[39m\u001b[39mself\u001b[39m\u001b[39m.\u001b[39msig\u001b[39m*\u001b[39m(\u001b[39m1\u001b[39m\u001b[39m-\u001b[39m\u001b[39mself\u001b[39m\u001b[39m.\u001b[39msig)\n\u001b[0;32m--> 115\u001b[0m     de_dw \u001b[39m=\u001b[39m np\u001b[39m.\u001b[39;49mmatmul(\u001b[39mself\u001b[39;49m\u001b[39m.\u001b[39;49mx,dj_da)\n\u001b[1;32m    116\u001b[0m     \u001b[39mprint\u001b[39m(np\u001b[39m.\u001b[39mshape(de_dw))\n\u001b[1;32m    118\u001b[0m     \u001b[39mself\u001b[39m\u001b[39m.\u001b[39mw \u001b[39m=\u001b[39m \u001b[39mself\u001b[39m\u001b[39m.\u001b[39mw \u001b[39m+\u001b[39m \u001b[39mself\u001b[39m\u001b[39m.\u001b[39mlr\u001b[39m*\u001b[39mde_dw\u001b[39m.\u001b[39mT\u001b[39m*\u001b[39mda\n",
      "\u001b[0;31mValueError\u001b[0m: matmul: Input operand 0 does not have enough dimensions (has 0, gufunc core with signature (n?,k),(k,m?)->(n?,m?) requires 1)"
     ]
    }
   ],
   "source": [
    "my_layers.back_prop()"
   ]
  }
 ],
 "metadata": {
  "kernelspec": {
   "display_name": "Python 3",
   "language": "python",
   "name": "python3"
  },
  "language_info": {
   "codemirror_mode": {
    "name": "ipython",
    "version": 3
   },
   "file_extension": ".py",
   "mimetype": "text/x-python",
   "name": "python",
   "nbconvert_exporter": "python",
   "pygments_lexer": "ipython3",
   "version": "3.10.6"
  },
  "orig_nbformat": 4
 },
 "nbformat": 4,
 "nbformat_minor": 2
}
