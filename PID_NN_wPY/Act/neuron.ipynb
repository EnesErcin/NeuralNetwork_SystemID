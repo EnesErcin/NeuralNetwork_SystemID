{
 "cells": [
  {
   "cell_type": "code",
   "execution_count": 1,
   "metadata": {},
   "outputs": [],
   "source": [
    "import numpy as np\n",
    "import random\n",
    "import matplotlib.pyplot as plt\n",
    "from func import neuron_layer,neuron_layers"
   ]
  },
  {
   "cell_type": "code",
   "execution_count": 2,
   "metadata": {},
   "outputs": [],
   "source": [
    "my_layers = neuron_layers([1,1,1,1],0.0000005)"
   ]
  },
  {
   "cell_type": "code",
   "execution_count": 3,
   "metadata": {},
   "outputs": [
    {
     "name": "stdout",
     "output_type": "stream",
     "text": [
      "\n",
      " \n",
      " |||| In neuron 0\n",
      "Forward Calculations || W.x + b || == a \n",
      "\n",
      "W -> [[1.]], x -> 2, b ->[[0.98230269]]\n",
      "a -> [[2.98230269]]\n",
      "Nonlinear ||σ(a) = y|| == a \n",
      "\n",
      "a -> [[2.98230269]] \n",
      "σ(a) -> [[0.95176819]]\n",
      "-------------------------\n",
      "\n",
      "\n",
      " \n",
      " |||| In neuron 1\n",
      "Forward Calculations || W.x + b || == a \n",
      "\n",
      "W -> [[1.]], x -> [[0.95176819]], b ->[[0.06475423]]\n",
      "a -> [[1.01652241]]\n",
      "Nonlinear ||σ(a) = y|| == a \n",
      "\n",
      "a -> [[1.01652241]] \n",
      "σ(a) -> [[0.73429465]]\n",
      "-------------------------\n",
      "\n",
      "Forward Calculations || W.x + b || == a \n",
      "\n",
      "W -> [[1.]], x -> [[0.73429465]], b ->[[0.88181196]]\n",
      "a -> [[1.61610661]]\n",
      "-------------------------\n",
      "\n",
      "\n",
      " \n",
      " |||| In neuron 2\n",
      "Forward Calculations || W.x + b || == a \n",
      "\n",
      "W -> [[1.]], x -> [[0.73429465]], b ->[[0.88181196]]\n",
      "a -> [[1.61610661]]\n"
     ]
    }
   ],
   "source": [
    "data = 2 \n",
    "expected = 2\n",
    "err , out = my_layers.calc_output(data,expected)"
   ]
  },
  {
   "cell_type": "code",
   "execution_count": 4,
   "metadata": {},
   "outputs": [
    {
     "name": "stdout",
     "output_type": "stream",
     "text": [
      "X values 2, W values [[1.]], Sig values[[0.95176819]]\n",
      "X values [[0.95176819]], W values [[1.]], Sig values[[0.73429465]]\n",
      "X values [[0.73429465]], W values [[1.]], Sig values[[0.]]\n",
      "Error\t [[0.14737413]]\n"
     ]
    }
   ],
   "source": [
    "for i in my_layers.layers:\n",
    "    print(\"X values {}, W values {}, Sig values{}\".format(i.x,i.w,i.sig))\n",
    "\n",
    "assert (out-expected)**2 == err ## Mean squarer error\n",
    "print(\"Error\\t {}\".format(my_layers.layers[-1].j))"
   ]
  },
  {
   "cell_type": "code",
   "execution_count": 5,
   "metadata": {},
   "outputs": [
    {
     "name": "stdout",
     "output_type": "stream",
     "text": [
      "[[-0.29474827]]\n",
      "dw_2 = \t[[0.95176819]] d_a1 = \t[[0.73429465]] dJ_dc = \t[[-0.14737413]]\n",
      "[[-0.02736674]]\n"
     ]
    }
   ],
   "source": [
    "da_dw = -2*err\n",
    "print(da_dw)\n",
    "\n",
    "##### 1- w_1*x  + b_1 = a_0      || Layer 1\n",
    "##### 2- c_0 = σ(a_0)\n",
    "##### 3- w_2*c_0 + b_2 = a_1     || Layer 2\n",
    "##### 4- c_1 = σ(a_1) \n",
    "##### 5- w_3*c_1 + b_3 = a_2     || Layer 3 (Output Layer)\n",
    "\n",
    "##### First weigtth derivatives\n",
    "#####\n",
    "##### dJ/dw_2 = [ (dJ/dy)*(dy/da) ] * d_c1\n",
    "##### --> Send for other derivatives dJ/dc = [ (dJ/dy)*(dy/da) ]*w\n",
    "\n",
    "######## dC/dw_2 = (dC/dy)*(dy/da_2)*(da_2/d_c1)*(dc_1/d_a1)*(da_1/dw_2)\n",
    "##### (dJ/dy)   = -2J\n",
    "##### (dy/da_2) = 1\n",
    "##### (da_2/d_c1) = w_3\n",
    "##### (dc_1/d_a1) = -c_1(1-c_1)\n",
    "##### (da_1/dw_2) = c_0\n",
    "\n",
    "##### dw_2 @ layer[1]\n",
    "\n",
    "dw_2 =  my_layers.layers[1].x\n",
    "\n",
    "d_a1 = my_layers.layers[1].sig\n",
    "d_a1 = d_a1*(1-d_a1)\n",
    "\n",
    "dJ_dc = -2*my_layers.layers[-1].j * my_layers.layers[-1].w\n",
    "\n",
    "dJ_dw = dJ_dc*d_a1*dw_2\n",
    "\n",
    "print(\"dw_2 = \\t{} d_a1 = \\t{} dJ_dc = \\t{}\".format(my_layers.layers[1].x,my_layers.layers[1].sig,dJ_dc))\n",
    "print(dJ_dw)\n",
    "\n",
    "\n",
    "\n",
    "\n"
   ]
  },
  {
   "cell_type": "code",
   "execution_count": 6,
   "metadata": {},
   "outputs": [
    {
     "name": "stdout",
     "output_type": "stream",
     "text": [
      "@ 2 da_dc [[-0.29474827]]\n",
      "dw_2 = \t[[0.95176819]] d_a1 = \t[[0.73429465]] dJ_dc = \t[[-0.29474827]]\n",
      "@ 1 da_dc [[0.05473348]]\n",
      "dw_2 = \t2 d_a1 = \t[[0.95176819]] dJ_dc = \t[[0.05750716]]\n",
      "@ 0 da_dc [[-0.00527979]]\n"
     ]
    }
   ],
   "source": [
    "my_layers.back_prop()"
   ]
  }
 ],
 "metadata": {
  "kernelspec": {
   "display_name": "Python 3",
   "language": "python",
   "name": "python3"
  },
  "language_info": {
   "codemirror_mode": {
    "name": "ipython",
    "version": 3
   },
   "file_extension": ".py",
   "mimetype": "text/x-python",
   "name": "python",
   "nbconvert_exporter": "python",
   "pygments_lexer": "ipython3",
   "version": "3.10.6"
  },
  "orig_nbformat": 4
 },
 "nbformat": 4,
 "nbformat_minor": 2
}
